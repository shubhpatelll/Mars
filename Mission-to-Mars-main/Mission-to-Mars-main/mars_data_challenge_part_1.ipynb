{
 "cells": [
  {
   "cell_type": "code",
   "execution_count": 1,
   "id": "8c3cac71",
   "metadata": {},
   "outputs": [],
   "source": [
    "# Deliverable 1: Scrape Titles and Preview Text from Mars News\n",
    "# Import Splinter and BeautifulSoup\n",
    "from splinter import Browser\n",
    "from bs4 import BeautifulSoup as soup\n",
    "from webdriver_manager.chrome import ChromeDriverManager"
   ]
  },
  {
   "cell_type": "code",
   "execution_count": 2,
   "id": "7300c970",
   "metadata": {},
   "outputs": [
    {
     "name": "stderr",
     "output_type": "stream",
     "text": [
      "[WDM] - Downloading: 100%|█████████████████| 8.41M/8.41M [00:00<00:00, 22.6MB/s]\n"
     ]
    }
   ],
   "source": [
    "executable_path = {'executable_path': ChromeDriverManager().install()}\n",
    "browser = Browser('chrome', **executable_path, headless=False)"
   ]
  },
  {
   "cell_type": "code",
   "execution_count": 3,
   "id": "6baddc83",
   "metadata": {},
   "outputs": [
    {
     "data": {
      "text/plain": [
       "True"
      ]
     },
     "execution_count": 3,
     "metadata": {},
     "output_type": "execute_result"
    }
   ],
   "source": [
    "# Visit the Mars NASA news site\n",
    "url = 'https://redplanetscience.com/'\n",
    "browser.visit(url)\n",
    "# Optional delay for loading the page\n",
    "browser.is_element_present_by_css('div.list_text', wait_time=1)"
   ]
  },
  {
   "cell_type": "code",
   "execution_count": 74,
   "id": "46f960e6",
   "metadata": {},
   "outputs": [],
   "source": [
    "# Extract information and append it to the list\n",
    "html = browser.html\n",
    "news_soup = soup(html, 'html.parser')\n",
    "titles = news_soup.find_all('div', class_='content_title')\n",
    "summary = news_soup.find_all('div', class_='article_teaser_body')"
   ]
  },
  {
   "cell_type": "code",
   "execution_count": 75,
   "id": "a97da921",
   "metadata": {},
   "outputs": [
    {
     "name": "stdout",
     "output_type": "stream",
     "text": [
      "NASA Mars Mission Connects With Bosnian and Herzegovinian Town\n",
      "---------------------------------\n",
      "NASA's Perseverance Rover Will Look at Mars Through These 'Eyes'\n",
      "---------------------------------\n",
      "With Mars Methane Mystery Unsolved, Curiosity Serves Scientists a New One: Oxygen\n",
      "---------------------------------\n",
      "NASA Moves Forward With Campaign to Return Mars Samples to Earth\n",
      "---------------------------------\n",
      "NASA's Treasure Map for Water Ice on Mars\n",
      "---------------------------------\n",
      "NASA Invites Public to Share Excitement of Mars 2020 Perseverance Rover Launch\n",
      "---------------------------------\n",
      "NASA's MAVEN Observes Martian Night Sky Pulsing in Ultraviolet Light\n",
      "---------------------------------\n",
      "5 Hidden Gems Are Riding Aboard NASA's Perseverance Rover\n",
      "---------------------------------\n",
      "Virginia Middle School Student Earns Honor of Naming NASA's Next Mars Rover\n",
      "---------------------------------\n",
      "NASA Updates Mars 2020 Mission Environmental Review\n",
      "---------------------------------\n",
      "NASA's Mars 2020 Rover Goes Coast-to-Coast to Prep for Launch\n",
      "---------------------------------\n",
      "NASA's Curiosity Rover Finds an Ancient Oasis on Mars\n",
      "---------------------------------\n",
      "New Selfie Shows Curiosity, the Mars Chemist\n",
      "---------------------------------\n",
      "NASA's Perseverance Rover 100 Days Out\n",
      "---------------------------------\n",
      "What's Mars Solar Conjunction, and Why Does It Matter?\n",
      "---------------------------------\n"
     ]
    }
   ],
   "source": [
    "# Create a for loop to print only titles\n",
    "for title in titles:\n",
    "    print(title.text)\n",
    "    print(\"---------------------------------\")"
   ]
  },
  {
   "cell_type": "code",
   "execution_count": 76,
   "id": "3cec4d19",
   "metadata": {},
   "outputs": [
    {
     "name": "stdout",
     "output_type": "stream",
     "text": [
      "A letter from NASA was presented to the mayor of Jezero, Bosnia-Herzegovina, honoring the connection between the town and Jezero Crater, the Mars 2020 rover landing site.\n",
      "------------------------------\n",
      "A pair of zoomable cameras will help scientists and rover drivers with high-resolution color images.\n",
      "------------------------------\n",
      "For the first time in the history of space exploration, scientists have measured the seasonal changes in the gases that fill the air directly above the surface of Gale Crater on Mars. \n",
      "------------------------------\n",
      "During this next phase, the program will mature critical technologies and make critical design decisions as well as assess industry partnerships.\n",
      "------------------------------\n",
      "A new study identifies frozen water just below the Martian surface, where astronauts could easily dig it up.\n",
      "------------------------------\n",
      "There are lots of ways to participate in the historic event, which is targeted for July 30.\n",
      "------------------------------\n",
      "Vast areas of the Martian night sky pulse in ultraviolet light, according to images from NASA’s MAVEN spacecraft. The results are being used to illuminate complex circulation patterns in the Martian atmosphere.\n",
      "------------------------------\n",
      "The symbols, mottos, and small objects added to the agency's newest Mars rover serve a variety of purposes, from functional to decorative.\n",
      "------------------------------\n",
      "NASA chose a seventh-grader from Virginia as winner of the agency's \"Name the Rover\" essay contest. Alexander Mather's entry for \"Perseverance\" was voted tops among 28,000 entries. \n",
      "------------------------------\n",
      "NASA and the Department of Energy have completed a more detailed risk analysis for the Mars 2020 rover launch from Florida.\n",
      "------------------------------\n",
      "The agency's first step in returning rocks from Mars just arrived at Kennedy Space Center. The Mars 2020 team now begins readying for a launch to the Red Planet this July.\n",
      "------------------------------\n",
      "New evidence suggests salty, shallow ponds once dotted a Martian crater — a sign of the planet's drying climate.\n",
      "------------------------------\n",
      "The NASA rover performed a special chemistry experiment at the location captured in its newest self-portrait.\n",
      "------------------------------\n",
      "Mark your calendars: The agency's latest rover has only about 8,640,000 seconds to go before it touches down on the Red Planet, becoming history's next Mars car.\n",
      "------------------------------\n",
      "NASA spacecraft at Mars are going to be on their own for a few weeks when the Sun comes between Mars and Earth, interrupting communications.\n",
      "------------------------------\n"
     ]
    }
   ],
   "source": [
    "# Create a for loop to get summary for each title\n",
    "for item in summary:\n",
    "    print(item.text)\n",
    "    print(\"------------------------------\")"
   ]
  },
  {
   "cell_type": "code",
   "execution_count": 77,
   "id": "5d56edaa",
   "metadata": {},
   "outputs": [],
   "source": [
    "# Extract dive element with all infomation together\n",
    "all_info = news_soup.find_all('div', class_='list_text')"
   ]
  },
  {
   "cell_type": "code",
   "execution_count": 78,
   "id": "1aa9520e",
   "metadata": {},
   "outputs": [],
   "source": [
    "# Create a list to include information\n",
    "title_preview_list = []"
   ]
  },
  {
   "cell_type": "code",
   "execution_count": 79,
   "id": "66364494",
   "metadata": {},
   "outputs": [
    {
     "name": "stdout",
     "output_type": "stream",
     "text": [
      "Titile:  NASA Mars Mission Connects With Bosnian and Herzegovinian Town\n",
      "Preview:  A letter from NASA was presented to the mayor of Jezero, Bosnia-Herzegovina, honoring the connection between the town and Jezero Crater, the Mars 2020 rover landing site.\n",
      "------------------------------------\n",
      "\n",
      "Titile:  NASA's Perseverance Rover Will Look at Mars Through These 'Eyes'\n",
      "Preview:  A pair of zoomable cameras will help scientists and rover drivers with high-resolution color images.\n",
      "------------------------------------\n",
      "\n",
      "Titile:  With Mars Methane Mystery Unsolved, Curiosity Serves Scientists a New One: Oxygen\n",
      "Preview:  For the first time in the history of space exploration, scientists have measured the seasonal changes in the gases that fill the air directly above the surface of Gale Crater on Mars. \n",
      "------------------------------------\n",
      "\n",
      "Titile:  NASA Moves Forward With Campaign to Return Mars Samples to Earth\n",
      "Preview:  During this next phase, the program will mature critical technologies and make critical design decisions as well as assess industry partnerships.\n",
      "------------------------------------\n",
      "\n",
      "Titile:  NASA's Treasure Map for Water Ice on Mars\n",
      "Preview:  A new study identifies frozen water just below the Martian surface, where astronauts could easily dig it up.\n",
      "------------------------------------\n",
      "\n",
      "Titile:  NASA Invites Public to Share Excitement of Mars 2020 Perseverance Rover Launch\n",
      "Preview:  There are lots of ways to participate in the historic event, which is targeted for July 30.\n",
      "------------------------------------\n",
      "\n",
      "Titile:  NASA's MAVEN Observes Martian Night Sky Pulsing in Ultraviolet Light\n",
      "Preview:  Vast areas of the Martian night sky pulse in ultraviolet light, according to images from NASA’s MAVEN spacecraft. The results are being used to illuminate complex circulation patterns in the Martian atmosphere.\n",
      "------------------------------------\n",
      "\n",
      "Titile:  5 Hidden Gems Are Riding Aboard NASA's Perseverance Rover\n",
      "Preview:  The symbols, mottos, and small objects added to the agency's newest Mars rover serve a variety of purposes, from functional to decorative.\n",
      "------------------------------------\n",
      "\n",
      "Titile:  Virginia Middle School Student Earns Honor of Naming NASA's Next Mars Rover\n",
      "Preview:  NASA chose a seventh-grader from Virginia as winner of the agency's \"Name the Rover\" essay contest. Alexander Mather's entry for \"Perseverance\" was voted tops among 28,000 entries. \n",
      "------------------------------------\n",
      "\n",
      "Titile:  NASA Updates Mars 2020 Mission Environmental Review\n",
      "Preview:  NASA and the Department of Energy have completed a more detailed risk analysis for the Mars 2020 rover launch from Florida.\n",
      "------------------------------------\n",
      "\n",
      "Titile:  NASA's Mars 2020 Rover Goes Coast-to-Coast to Prep for Launch\n",
      "Preview:  The agency's first step in returning rocks from Mars just arrived at Kennedy Space Center. The Mars 2020 team now begins readying for a launch to the Red Planet this July.\n",
      "------------------------------------\n",
      "\n",
      "Titile:  NASA's Curiosity Rover Finds an Ancient Oasis on Mars\n",
      "Preview:  New evidence suggests salty, shallow ponds once dotted a Martian crater — a sign of the planet's drying climate.\n",
      "------------------------------------\n",
      "\n",
      "Titile:  New Selfie Shows Curiosity, the Mars Chemist\n",
      "Preview:  The NASA rover performed a special chemistry experiment at the location captured in its newest self-portrait.\n",
      "------------------------------------\n",
      "\n",
      "Titile:  NASA's Perseverance Rover 100 Days Out\n",
      "Preview:  Mark your calendars: The agency's latest rover has only about 8,640,000 seconds to go before it touches down on the Red Planet, becoming history's next Mars car.\n",
      "------------------------------------\n",
      "\n",
      "Titile:  What's Mars Solar Conjunction, and Why Does It Matter?\n",
      "Preview:  NASA spacecraft at Mars are going to be on their own for a few weeks when the Sun comes between Mars and Earth, interrupting communications.\n",
      "------------------------------------\n",
      "\n"
     ]
    }
   ],
   "source": [
    "# Create a for loop to print the title and the corresponding summary\n",
    "for info in all_info:\n",
    "    title_comb = info.find('div', class_='content_title').text\n",
    "    summary_comb = info.find('div', class_='article_teaser_body').text\n",
    "    print(\"Titile: \", title_comb)\n",
    "    print(\"Preview: \", summary_comb)\n",
    "    print('------------------------------------\\n')\n",
    "    summary_dict = {\"title\":title_comb, \"preview\":summary_comb\n",
    "        \n",
    "    }\n",
    "    title_preview_list.append(summary_dict)"
   ]
  },
  {
   "cell_type": "code",
   "execution_count": 82,
   "id": "f017c375",
   "metadata": {},
   "outputs": [
    {
     "data": {
      "text/plain": [
       "[{'title': 'NASA Mars Mission Connects With Bosnian and Herzegovinian Town',\n",
       "  'preview': 'A letter from NASA was presented to the mayor of Jezero, Bosnia-Herzegovina, honoring the connection between the town and Jezero Crater, the Mars 2020 rover landing site.'},\n",
       " {'title': \"NASA's Perseverance Rover Will Look at Mars Through These 'Eyes'\",\n",
       "  'preview': 'A pair of zoomable cameras will help scientists and rover drivers with high-resolution color images.'},\n",
       " {'title': 'With Mars Methane Mystery Unsolved, Curiosity Serves Scientists a New One: Oxygen',\n",
       "  'preview': 'For the first time in the history of space exploration, scientists have measured the seasonal changes in the gases that fill the air directly above the surface of Gale Crater on Mars. '},\n",
       " {'title': 'NASA Moves Forward With Campaign to Return Mars Samples to Earth',\n",
       "  'preview': 'During this next phase, the program will mature critical technologies and make critical design decisions as well as assess industry partnerships.'},\n",
       " {'title': \"NASA's Treasure Map for Water Ice on Mars\",\n",
       "  'preview': 'A new study identifies frozen water just below the Martian surface, where astronauts could easily dig it up.'},\n",
       " {'title': 'NASA Invites Public to Share Excitement of Mars 2020 Perseverance Rover Launch',\n",
       "  'preview': 'There are lots of ways to participate in the historic event, which is targeted for July 30.'},\n",
       " {'title': \"NASA's MAVEN Observes Martian Night Sky Pulsing in Ultraviolet Light\",\n",
       "  'preview': 'Vast areas of the Martian night sky pulse in ultraviolet light, according to images from NASA’s MAVEN spacecraft. The results are being used to illuminate complex circulation patterns in the Martian atmosphere.'},\n",
       " {'title': \"5 Hidden Gems Are Riding Aboard NASA's Perseverance Rover\",\n",
       "  'preview': \"The symbols, mottos, and small objects added to the agency's newest Mars rover serve a variety of purposes, from functional to decorative.\"},\n",
       " {'title': \"Virginia Middle School Student Earns Honor of Naming NASA's Next Mars Rover\",\n",
       "  'preview': 'NASA chose a seventh-grader from Virginia as winner of the agency\\'s \"Name the Rover\" essay contest. Alexander Mather\\'s entry for \"Perseverance\" was voted tops among 28,000 entries. '},\n",
       " {'title': 'NASA Updates Mars 2020 Mission Environmental Review',\n",
       "  'preview': 'NASA and the Department of Energy have completed a more detailed risk analysis for the Mars 2020 rover launch from Florida.'},\n",
       " {'title': \"NASA's Mars 2020 Rover Goes Coast-to-Coast to Prep for Launch\",\n",
       "  'preview': \"The agency's first step in returning rocks from Mars just arrived at Kennedy Space Center. The Mars 2020 team now begins readying for a launch to the Red Planet this July.\"},\n",
       " {'title': \"NASA's Curiosity Rover Finds an Ancient Oasis on Mars\",\n",
       "  'preview': \"New evidence suggests salty, shallow ponds once dotted a Martian crater — a sign of the planet's drying climate.\"},\n",
       " {'title': 'New Selfie Shows Curiosity, the Mars Chemist',\n",
       "  'preview': 'The NASA rover performed a special chemistry experiment at the location captured in its newest self-portrait.'},\n",
       " {'title': \"NASA's Perseverance Rover 100 Days Out\",\n",
       "  'preview': \"Mark your calendars: The agency's latest rover has only about 8,640,000 seconds to go before it touches down on the Red Planet, becoming history's next Mars car.\"},\n",
       " {'title': \"What's Mars Solar Conjunction, and Why Does It Matter?\",\n",
       "  'preview': 'NASA spacecraft at Mars are going to be on their own for a few weeks when the Sun comes between Mars and Earth, interrupting communications.'}]"
      ]
     },
     "execution_count": 82,
     "metadata": {},
     "output_type": "execute_result"
    }
   ],
   "source": [
    "title_preview_list"
   ]
  },
  {
   "cell_type": "code",
   "execution_count": 83,
   "id": "0853cc30",
   "metadata": {},
   "outputs": [],
   "source": [
    "import json\n",
    "with open(\"summary.json\", \"w\") as outfile:\n",
    "    json.dump(title_preview_list, outfile, ensure_ascii=False, indent=4)"
   ]
  },
  {
   "cell_type": "code",
   "execution_count": null,
   "id": "de365d3c",
   "metadata": {},
   "outputs": [],
   "source": []
  }
 ],
 "metadata": {
  "kernelspec": {
   "display_name": "PythonData",
   "language": "python",
   "name": "pythondata"
  },
  "language_info": {
   "codemirror_mode": {
    "name": "ipython",
    "version": 3
   },
   "file_extension": ".py",
   "mimetype": "text/x-python",
   "name": "python",
   "nbconvert_exporter": "python",
   "pygments_lexer": "ipython3",
   "version": "3.7.13"
  }
 },
 "nbformat": 4,
 "nbformat_minor": 5
}
